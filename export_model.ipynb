{
 "cells": [
  {
   "cell_type": "markdown",
   "id": "79a89d97-d1fe-45b0-8d8b-16d81f336142",
   "metadata": {},
   "source": [
    "Exporting models made using this package\n",
    "\n",
    "Code should be run in a FBL Medulla kernel"
   ]
  },
  {
   "cell_type": "code",
   "execution_count": 15,
   "id": "1a719929-8364-4b20-8360-6649e5a9440b",
   "metadata": {},
   "outputs": [
    {
     "name": "stdout",
     "output_type": "stream",
     "text": [
      "The autoreload extension is already loaded. To reload it, use:\n",
      "  %reload_ext autoreload\n"
     ]
    }
   ],
   "source": [
    "%load_ext autoreload\n",
    "%autoreload 2\n",
    "\n",
    "%matplotlib inline\n",
    "\n",
    "import networkx\n",
    "import numpy as np\n",
    "import os.path\n",
    "from random import choice\n",
    "import tempfile\n",
    "import typing as tp\n",
    "import flybrainlab as fbl\n",
    "\n",
    "import linecache\n",
    "import os\n",
    "import tracemalloc\n",
    "\n",
    "import netpyne\n",
    "from netpyne.specs import netParams, SimConfig\n",
    "from netpyne import conversion, sim\n",
    "\n",
    "from brian2 import *\n",
    "\n",
    "import src.NeuroNLP_to_Brian_Netpyne.nlpToNetpyne as toNet\n",
    "import src.NeuroNLP_to_Brian_Netpyne.nlptoBrian2 as toBri"
   ]
  },
  {
   "cell_type": "markdown",
   "id": "aab685ef-c9bf-4555-942f-bb0b3919f076",
   "metadata": {},
   "source": [
    "Define variables and helper functions"
   ]
  },
  {
   "cell_type": "code",
   "execution_count": 24,
   "id": "003b3d38-ab90-4aba-aa15-48273f91ca3f",
   "metadata": {},
   "outputs": [],
   "source": [
    "# Query and files\n",
    "query = \"show cholinergic neurons presynaptic to T4a neuron in column C with at least 5 synapses\"\n",
    "\n",
    "# Cells Present: Mi1-C, Mi1-L, Tm3-C-ant, Tm3-K-ant, Tm3-home-post"
   ]
  },
  {
   "cell_type": "markdown",
   "id": "a85d85bc-a0c9-4f21-b35f-c9fd8db6f87f",
   "metadata": {},
   "source": [
    "## NetPyNE"
   ]
  },
  {
   "cell_type": "markdown",
   "id": "98c28665-34f4-4c96-b0f8-5877e889be18",
   "metadata": {},
   "source": [
    "This project leverages NetPyNE to export generated models to both python and LEMS formats.\n",
    "\n",
    "Generated python files can be imported into other NetPyNE projects, or used in NePyNE's GUI interface (found [here](https://netpyne.v2.opensourcebrain.org/)).\n",
    "\n",
    "Generated LEMS files can be used in neuroml simulations, or leveraged using neuroml to export to other neural simulators (See [here](https://docs.neuroml.org/Userdocs/SimulatingNeuroMLModels.html) for information on simulating neuroml models). It should be noted that, due to how networks are constructed in NetPyNE, generated models are not functional in Brian2."
   ]
  },
  {
   "cell_type": "code",
   "execution_count": 21,
   "id": "929e5c43-d187-4e7d-9731-5f92c84367ec",
   "metadata": {},
   "outputs": [],
   "source": [
    "# Default Mechanisms\n",
    "stim_mech = {'bkg': {'type': 'NetStim', 'rate': 10, 'noise': 0}} # Stimulation mechanism\n",
    "default_syn = {'mod': 'Exp2Syn', 'tau1': 0.1, 'tau2': 5.0, 'e': 0} # Excitatory synapse mechanism\n",
    "\n",
    "default_cell = {'secs': {}}\n",
    "default_cell['secs']['soma'] = {'geom': {}, 'mechs': {}}\n",
    "default_cell['secs']['soma']['geom'] = {'diam': 18.8, 'L': 18.8, 'Ra': 123.0}                           # soma geometry\n",
    "default_cell['secs']['soma']['mechs']['hh'] = {'gnabar': 0.12, 'gkbar': 0.036, 'gl': 0.003, 'el': -70}  # soma hh mechanism"
   ]
  },
  {
   "cell_type": "code",
   "execution_count": 25,
   "id": "0bf39f60-e97d-4130-bc8f-acf0be9b291c",
   "metadata": {},
   "outputs": [
    {
     "name": "stdout",
     "output_type": "stream",
     "text": [
      "script saved on sample_python\n",
      "Exporting the network to NeuroML 2, reference: sample_neuroml, connections: True, stimulations: True, format: xml\n",
      "Is Tm3_K_ant in odict_keys(['Tm3_K_ant', 'Tm3_C_ant', 'Tm3_home_post', 'Mi1_C', 'Mi1_L'])...?\n",
      "Proceeding with assumption <netpyne.network.pop.Pop object at 0x00000182A7D75AC8> defines which cellParams...\n",
      "Now cell params for Tm3_K_ant are: {'secs': {'soma': {'geom': {'diam': 18.8, 'L': 18.8, 'Ra': 123.0}, 'pointps': {'Izhi': {'mod': 'Izhi2007b', 'C': 1, 'k': 0.7, 'vr': -60, 'vt': -40, 'vpeak': 35, 'a': 0.03, 'b': -2, 'c': -50, 'd': 100, 'celltype': 1}}}}, 'conds': {'cellType': 'Tm3_K_ant', 'cellModel': 'Tm3_K_ant'}}...\n",
      "Assuming abstract cell with behaviour set by single point process: {'mod': 'Izhi2007b', 'C': 1, 'k': 0.7, 'vr': -60, 'vt': -40, 'vpeak': 35, 'a': 0.03, 'b': -2, 'c': -50, 'd': 100, 'celltype': 1}!\n",
      "Is Tm3_C_ant in odict_keys(['Tm3_K_ant', 'Tm3_C_ant', 'Tm3_home_post', 'Mi1_C', 'Mi1_L'])...?\n",
      "Proceeding with assumption <netpyne.network.pop.Pop object at 0x00000182A8780348> defines which cellParams...\n",
      "Now cell params for Tm3_C_ant are: {'secs': {'soma': {'geom': {'diam': 18.8, 'L': 18.8, 'Ra': 123.0}, 'pointps': {'Izhi': {'mod': 'Izhi2007b', 'C': 1, 'k': 0.7, 'vr': -60, 'vt': -40, 'vpeak': 35, 'a': 0.03, 'b': -2, 'c': -50, 'd': 100, 'celltype': 1}}}}, 'conds': {'cellType': 'Tm3_C_ant', 'cellModel': 'Tm3_C_ant'}}...\n",
      "Assuming abstract cell with behaviour set by single point process: {'mod': 'Izhi2007b', 'C': 1, 'k': 0.7, 'vr': -60, 'vt': -40, 'vpeak': 35, 'a': 0.03, 'b': -2, 'c': -50, 'd': 100, 'celltype': 1}!\n",
      "Is Tm3_home_post in odict_keys(['Tm3_K_ant', 'Tm3_C_ant', 'Tm3_home_post', 'Mi1_C', 'Mi1_L'])...?\n",
      "Proceeding with assumption <netpyne.network.pop.Pop object at 0x00000182A8780308> defines which cellParams...\n",
      "Now cell params for Tm3_home_post are: {'secs': {'soma': {'geom': {'diam': 18.8, 'L': 18.8, 'Ra': 123.0}, 'pointps': {'Izhi': {'mod': 'Izhi2007b', 'C': 1, 'k': 0.7, 'vr': -60, 'vt': -40, 'vpeak': 35, 'a': 0.03, 'b': -2, 'c': -50, 'd': 100, 'celltype': 1}}}}, 'conds': {'cellType': 'Tm3_home_post', 'cellModel': 'Tm3_home_post'}}...\n",
      "Assuming abstract cell with behaviour set by single point process: {'mod': 'Izhi2007b', 'C': 1, 'k': 0.7, 'vr': -60, 'vt': -40, 'vpeak': 35, 'a': 0.03, 'b': -2, 'c': -50, 'd': 100, 'celltype': 1}!\n",
      "Is Mi1_C in odict_keys(['Tm3_K_ant', 'Tm3_C_ant', 'Tm3_home_post', 'Mi1_C', 'Mi1_L'])...?\n",
      "Proceeding with assumption <netpyne.network.pop.Pop object at 0x00000182A8780288> defines which cellParams...\n",
      "Now cell params for Mi1_C are: {'secs': {'soma': {'geom': {'diam': 18.8, 'L': 18.8, 'Ra': 123.0}, 'pointps': {'Izhi': {'mod': 'Izhi2007b', 'C': 1, 'k': 0.7, 'vr': -60, 'vt': -40, 'vpeak': 35, 'a': 0.03, 'b': -2, 'c': -50, 'd': 100, 'celltype': 1}}}}, 'conds': {'cellType': 'Mi1_C', 'cellModel': 'Mi1_C'}}...\n",
      "Assuming abstract cell with behaviour set by single point process: {'mod': 'Izhi2007b', 'C': 1, 'k': 0.7, 'vr': -60, 'vt': -40, 'vpeak': 35, 'a': 0.03, 'b': -2, 'c': -50, 'd': 100, 'celltype': 1}!\n",
      "Is Mi1_L in odict_keys(['Tm3_K_ant', 'Tm3_C_ant', 'Tm3_home_post', 'Mi1_C', 'Mi1_L'])...?\n",
      "Proceeding with assumption <netpyne.network.pop.Pop object at 0x00000182A87804C8> defines which cellParams...\n",
      "Now cell params for Mi1_L are: {'secs': {'soma': {'geom': {'diam': 18.8, 'L': 18.8, 'Ra': 123.0}, 'pointps': {'Izhi': {'mod': 'Izhi2007b', 'C': 1, 'k': 0.7, 'vr': -60, 'vt': -40, 'vpeak': 35, 'a': 0.03, 'b': -2, 'c': -50, 'd': 100, 'celltype': 1}}}}, 'conds': {'cellType': 'Mi1_L', 'cellModel': 'Mi1_L'}}...\n",
      "Assuming abstract cell with behaviour set by single point process: {'mod': 'Izhi2007b', 'C': 1, 'k': 0.7, 'vr': -60, 'vt': -40, 'vpeak': 35, 'a': 0.03, 'b': -2, 'c': -50, 'd': 100, 'celltype': 1}!\n",
      "Adding population: {cellType: 'Tm3_K_ant', numCells: 1, pop: 'Tm3_K_ant', cellModel: 'Tm3_K_ant'}\n",
      "Population ({cellType: 'Tm3_K_ant', numCells: 1, pop: 'Tm3_K_ant', cellModel: 'Tm3_K_ant'}) has comp: CELL_Tm3_K_ant_Tm3_K_ant ({secs: {'soma': {'geom': {'diam': 18.8, 'L': 18.8, 'Ra': 123.0}, 'pointps': {'Izhi': {'mod': 'Izhi2007b', 'C': 1, 'k': 0.7, 'vr': -60, 'vt': -40, 'vpeak': 35, 'a': 0.03, 'b': -2, 'c': -50, 'd': 100, 'celltype': 1}}}}})\n",
      "Adding population: {cellType: 'Tm3_C_ant', numCells: 1, pop: 'Tm3_C_ant', cellModel: 'Tm3_C_ant'}\n",
      "Population ({cellType: 'Tm3_C_ant', numCells: 1, pop: 'Tm3_C_ant', cellModel: 'Tm3_C_ant'}) has comp: CELL_Tm3_C_ant_Tm3_C_ant ({secs: {'soma': {'geom': {'diam': 18.8, 'L': 18.8, 'Ra': 123.0}, 'pointps': {'Izhi': {'mod': 'Izhi2007b', 'C': 1, 'k': 0.7, 'vr': -60, 'vt': -40, 'vpeak': 35, 'a': 0.03, 'b': -2, 'c': -50, 'd': 100, 'celltype': 1}}}}})\n",
      "Adding population: {cellType: 'Tm3_home_post', numCells: 1, pop: 'Tm3_home_post', cellModel: 'Tm3_home_post'}\n",
      "Population ({cellType: 'Tm3_home_post', numCells: 1, pop: 'Tm3_home_post', cellModel: 'Tm3_home_post'}) has comp: CELL_Tm3_home_post_Tm3_home_post ({secs: {'soma': {'geom': {'diam': 18.8, 'L': 18.8, 'Ra': 123.0}, 'pointps': {'Izhi': {'mod': 'Izhi2007b', 'C': 1, 'k': 0.7, 'vr': -60, 'vt': -40, 'vpeak': 35, 'a': 0.03, 'b': -2, 'c': -50, 'd': 100, 'celltype': 1}}}}})\n",
      "Adding population: {cellType: 'Mi1_C', numCells: 1, pop: 'Mi1_C', cellModel: 'Mi1_C'}\n",
      "Population ({cellType: 'Mi1_C', numCells: 1, pop: 'Mi1_C', cellModel: 'Mi1_C'}) has comp: CELL_Mi1_C_Mi1_C ({secs: {'soma': {'geom': {'diam': 18.8, 'L': 18.8, 'Ra': 123.0}, 'pointps': {'Izhi': {'mod': 'Izhi2007b', 'C': 1, 'k': 0.7, 'vr': -60, 'vt': -40, 'vpeak': 35, 'a': 0.03, 'b': -2, 'c': -50, 'd': 100, 'celltype': 1}}}}})\n",
      "Adding population: {cellType: 'Mi1_L', numCells: 1, pop: 'Mi1_L', cellModel: 'Mi1_L'}\n",
      "Population ({cellType: 'Mi1_L', numCells: 1, pop: 'Mi1_L', cellModel: 'Mi1_L'}) has comp: CELL_Mi1_L_Mi1_L ({secs: {'soma': {'geom': {'diam': 18.8, 'L': 18.8, 'Ra': 123.0}, 'pointps': {'Izhi': {'mod': 'Izhi2007b', 'C': 1, 'k': 0.7, 'vr': -60, 'vt': -40, 'vpeak': 35, 'a': 0.03, 'b': -2, 'c': -50, 'd': 100, 'celltype': 1}}}}})\n",
      "Adding conns for: {cellType: 'Tm3_K_ant', numCells: 1, pop: 'Tm3_K_ant', cellModel: 'Tm3_K_ant'}\n",
      "Adding conns for: {cellType: 'Tm3_C_ant', numCells: 1, pop: 'Tm3_C_ant', cellModel: 'Tm3_C_ant'}\n",
      "Adding conns for: {cellType: 'Tm3_home_post', numCells: 1, pop: 'Tm3_home_post', cellModel: 'Tm3_home_post'}\n",
      "Adding conns for: {cellType: 'Mi1_C', numCells: 1, pop: 'Mi1_C', cellModel: 'Mi1_C'}\n",
      "Adding conns for: {cellType: 'Mi1_L', numCells: 1, pop: 'Mi1_L', cellModel: 'Mi1_L'}\n",
      "Adding the stim source: bkg = {type: 'NetStim', rate: 10, noise: 0}\n",
      "Adding stims for: {cellType: 'Tm3_K_ant', numCells: 1, pop: 'Tm3_K_ant', cellModel: 'Tm3_K_ant'}\n",
      "Adding stims for: {cellType: 'Tm3_C_ant', numCells: 1, pop: 'Tm3_C_ant', cellModel: 'Tm3_C_ant'}\n",
      "Adding stims for: {cellType: 'Tm3_home_post', numCells: 1, pop: 'Tm3_home_post', cellModel: 'Tm3_home_post'}\n",
      "Adding stims for: {cellType: 'Mi1_C', numCells: 1, pop: 'Mi1_C', cellModel: 'Mi1_C'}\n",
      "Adding stims for: {cellType: 'Mi1_L', numCells: 1, pop: 'Mi1_L', cellModel: 'Mi1_L'}\n",
      "Writing <NeuroMLDocument id=\"sample_neuroml\">\n",
      "    <notes>NeuroML 2 file exported from NetPyNE v1.0.4</notes>\n",
      "    <expTwoSynapse id=\"exc\" gbase=\"1uS\" erev=\"0mV\" tauDecay=\"5.0ms\" tauRise=\"0.1ms\"/>\n",
      "    <expTwoSynapse id=\"default\" gbase=\"1uS\" erev=\"0mV\" tauDecay=\"5.0ms\" tauRise=\"0.1ms\"/>\n",
      "    <izhikevich2007Cell id=\"CELL_Tm3_K_ant_Tm3_K_ant\" C=\"100 pF\" v0=\"-60 mV\" k=\"0.7 nS_per_mV\" vr=\"-60 mV\" vt=\"-40 mV\" vpeak=\"35 mV\" a=\"0.03 per_ms\" b=\"-2 nS\" c=\"-50 mV\" d=\"100 pA\"/>\n",
      "    <izhikevich2007Cell id=\"CELL_Tm3_C_ant_Tm3_C_ant\" C=\"100 pF\" v0=\"-60 mV\" k=\"0.7 nS_per_mV\" vr=\"-60 mV\" vt=\"-40 mV\" vpeak=\"35 mV\" a=\"0.03 per_ms\" b=\"-2 nS\" c=\"-50 mV\" d=\"100 pA\"/>\n",
      "    <izhikevich2007Cell id=\"CELL_Tm3_home_post_Tm3_home_post\" C=\"100 pF\" v0=\"-60 mV\" k=\"0.7 nS_per_mV\" vr=\"-60 mV\" vt=\"-40 mV\" vpeak=\"35 mV\" a=\"0.03 per_ms\" b=\"-2 nS\" c=\"-50 mV\" d=\"100 pA\"/>\n",
      "    <izhikevich2007Cell id=\"CELL_Mi1_C_Mi1_C\" C=\"100 pF\" v0=\"-60 mV\" k=\"0.7 nS_per_mV\" vr=\"-60 mV\" vt=\"-40 mV\" vpeak=\"35 mV\" a=\"0.03 per_ms\" b=\"-2 nS\" c=\"-50 mV\" d=\"100 pA\"/>\n",
      "    <izhikevich2007Cell id=\"CELL_Mi1_L_Mi1_L\" C=\"100 pF\" v0=\"-60 mV\" k=\"0.7 nS_per_mV\" vr=\"-60 mV\" vt=\"-40 mV\" vpeak=\"35 mV\" a=\"0.03 per_ms\" b=\"-2 nS\" c=\"-50 mV\" d=\"100 pA\"/>\n",
      "    <spikeGenerator id=\"NetStim_bkg_Mi1_C_10_0_exc\" period=\"0.1s\"/>\n",
      "    <network id=\"sample_neuroml\">\n",
      "        <population id=\"Tm3_K_ant\" component=\"CELL_Tm3_K_ant_Tm3_K_ant\" size=\"1\" type=\"populationList\">\n",
      "            <property tag=\"radius\" value=\"5\"/>\n",
      "            <property tag=\"color\" value=\"0.41661987254534116 0.010169169457068361 0.8252065092537432\"/>\n",
      "            <instance id=\"0\">\n",
      "                <location x=\"35.835311437064007\" y=\"39.849443421734158\" z=\"87.636545838872763\"/>\n",
      "            </instance>\n",
      "        </population>\n",
      "        <population id=\"Tm3_C_ant\" component=\"CELL_Tm3_C_ant_Tm3_C_ant\" size=\"1\" type=\"populationList\">\n",
      "            <property tag=\"radius\" value=\"5\"/>\n",
      "            <property tag=\"color\" value=\"0.2986398551995928 0.3684116894884757 0.19366134904507426\"/>\n",
      "            <instance id=\"0\">\n",
      "                <location x=\"95.004229434997725\" y=\"84.984375982316124\" z=\"69.624018187256524\"/>\n",
      "            </instance>\n",
      "        </population>\n",
      "        <population id=\"Tm3_home_post\" component=\"CELL_Tm3_home_post_Tm3_home_post\" size=\"1\" type=\"populationList\">\n",
      "            <property tag=\"radius\" value=\"5\"/>\n",
      "            <property tag=\"color\" value=\"0.5660081687288613 0.1616878239293682 0.12426688428353017\"/>\n",
      "            <instance id=\"0\">\n",
      "                <location x=\"63.076647775462682\" y=\"48.808624840153236\" z=\"91.637182749892304\"/>\n",
      "            </instance>\n",
      "        </population>\n",
      "        <population id=\"Mi1_C\" component=\"CELL_Mi1_C_Mi1_C\" size=\"1\" type=\"populationList\">\n",
      "            <property tag=\"radius\" value=\"5\"/>\n",
      "            <property tag=\"color\" value=\"0.4329362680099159 0.5620784880758429 0.1743435607237318\"/>\n",
      "            <instance id=\"0\">\n",
      "                <location x=\"65.878584523247881\" y=\"84.521311269020359\" z=\"55.858725762027618\"/>\n",
      "            </instance>\n",
      "        </population>\n",
      "        <population id=\"Mi1_L\" component=\"CELL_Mi1_L_Mi1_L\" size=\"1\" type=\"populationList\">\n",
      "            <property tag=\"radius\" value=\"5\"/>\n",
      "            <property tag=\"color\" value=\"0.5532210855693298 0.35490138633659873 0.9580647850995486\"/>\n",
      "            <instance id=\"0\">\n",
      "                <location x=\"66.803246581274252\" y=\"58.887882353996886\" z=\"60.348811917857084\"/>\n",
      "            </instance>\n",
      "        </population>\n",
      "        <population id=\"Pop_NetStim_bkg_Mi1_C_10_0_exc\" component=\"NetStim_bkg_Mi1_C_10_0_exc\" size=\"1\"/>\n",
      "        <projection id=\"NetConn_Mi1_L_Tm3_K_ant_default\" presynapticPopulation=\"Mi1_L\" postsynapticPopulation=\"Tm3_K_ant\" synapse=\"default\">\n",
      "            <connectionWD id=\"0\" preCellId=\"../Mi1_L/0/CELL_Mi1_L_Mi1_L\" postCellId=\"../Tm3_K_ant/0/CELL_Tm3_K_ant_Tm3_K_ant\" weight=\"0.1\" delay=\"5 ms\"/>\n",
      "        </projection>\n",
      "        <projection id=\"NetConn_Tm3_home_post_Tm3_K_ant_default\" presynapticPopulation=\"Tm3_home_post\" postsynapticPopulation=\"Tm3_K_ant\" synapse=\"default\">\n",
      "            <connectionWD id=\"0\" preCellId=\"../Tm3_home_post/0/CELL_Tm3_home_post_Tm3_home_post\" postCellId=\"../Tm3_K_ant/0/CELL_Tm3_K_ant_Tm3_K_ant\" weight=\"0.1\" delay=\"5 ms\"/>\n",
      "        </projection>\n",
      "        <projection id=\"NetConn_Mi1_C_Tm3_K_ant_default\" presynapticPopulation=\"Mi1_C\" postsynapticPopulation=\"Tm3_K_ant\" synapse=\"default\">\n",
      "            <connectionWD id=\"0\" preCellId=\"../Mi1_C/0/CELL_Mi1_C_Mi1_C\" postCellId=\"../Tm3_K_ant/0/CELL_Tm3_K_ant_Tm3_K_ant\" weight=\"0.1\" delay=\"5 ms\"/>\n",
      "        </projection>\n",
      "        <projection id=\"NetConn_Mi1_L_Tm3_C_ant_default\" presynapticPopulation=\"Mi1_L\" postsynapticPopulation=\"Tm3_C_ant\" synapse=\"default\">\n",
      "            <connectionWD id=\"0\" preCellId=\"../Mi1_L/0/CELL_Mi1_L_Mi1_L\" postCellId=\"../Tm3_C_ant/0/CELL_Tm3_C_ant_Tm3_C_ant\" weight=\"0.1\" delay=\"5 ms\"/>\n",
      "        </projection>\n",
      "        <projection id=\"NetConn_Tm3_home_post_Tm3_C_ant_default\" presynapticPopulation=\"Tm3_home_post\" postsynapticPopulation=\"Tm3_C_ant\" synapse=\"default\">\n",
      "            <connectionWD id=\"0\" preCellId=\"../Tm3_home_post/0/CELL_Tm3_home_post_Tm3_home_post\" postCellId=\"../Tm3_C_ant/0/CELL_Tm3_C_ant_Tm3_C_ant\" weight=\"0.1\" delay=\"5 ms\"/>\n",
      "        </projection>\n",
      "        <projection id=\"NetConn_Mi1_C_Tm3_C_ant_default\" presynapticPopulation=\"Mi1_C\" postsynapticPopulation=\"Tm3_C_ant\" synapse=\"default\">\n",
      "            <connectionWD id=\"0\" preCellId=\"../Mi1_C/0/CELL_Mi1_C_Mi1_C\" postCellId=\"../Tm3_C_ant/0/CELL_Tm3_C_ant_Tm3_C_ant\" weight=\"0.1\" delay=\"5 ms\"/>\n",
      "        </projection>\n",
      "        <projection id=\"NetConn_Tm3_K_ant_Tm3_home_post_default\" presynapticPopulation=\"Tm3_K_ant\" postsynapticPopulation=\"Tm3_home_post\" synapse=\"default\">\n",
      "            <connectionWD id=\"0\" preCellId=\"../Tm3_K_ant/0/CELL_Tm3_K_ant_Tm3_K_ant\" postCellId=\"../Tm3_home_post/0/CELL_Tm3_home_post_Tm3_home_post\" weight=\"0.1\" delay=\"5 ms\"/>\n",
      "        </projection>\n",
      "        <projection id=\"NetConn_Tm3_C_ant_Tm3_home_post_default\" presynapticPopulation=\"Tm3_C_ant\" postsynapticPopulation=\"Tm3_home_post\" synapse=\"default\">\n",
      "            <connectionWD id=\"0\" preCellId=\"../Tm3_C_ant/0/CELL_Tm3_C_ant_Tm3_C_ant\" postCellId=\"../Tm3_home_post/0/CELL_Tm3_home_post_Tm3_home_post\" weight=\"0.1\" delay=\"5 ms\"/>\n",
      "        </projection>\n",
      "        <projection id=\"NetConn_Mi1_C_Tm3_home_post_default\" presynapticPopulation=\"Mi1_C\" postsynapticPopulation=\"Tm3_home_post\" synapse=\"default\">\n",
      "            <connectionWD id=\"0\" preCellId=\"../Mi1_C/0/CELL_Mi1_C_Mi1_C\" postCellId=\"../Tm3_home_post/0/CELL_Tm3_home_post_Tm3_home_post\" weight=\"0.1\" delay=\"5 ms\"/>\n",
      "        </projection>\n",
      "        <projection id=\"NetConn_Mi1_L_Mi1_C_default\" presynapticPopulation=\"Mi1_L\" postsynapticPopulation=\"Mi1_C\" synapse=\"default\">\n",
      "            <connectionWD id=\"0\" preCellId=\"../Mi1_L/0/CELL_Mi1_L_Mi1_L\" postCellId=\"../Mi1_C/0/CELL_Mi1_C_Mi1_C\" weight=\"0.1\" delay=\"5 ms\"/>\n",
      "        </projection>\n",
      "        <projection id=\"NetConn_Tm3_K_ant_Mi1_C_default\" presynapticPopulation=\"Tm3_K_ant\" postsynapticPopulation=\"Mi1_C\" synapse=\"default\">\n",
      "            <connectionWD id=\"0\" preCellId=\"../Tm3_K_ant/0/CELL_Tm3_K_ant_Tm3_K_ant\" postCellId=\"../Mi1_C/0/CELL_Mi1_C_Mi1_C\" weight=\"0.1\" delay=\"5 ms\"/>\n",
      "        </projection>\n",
      "        <projection id=\"NetConn_Tm3_home_post_Mi1_C_default\" presynapticPopulation=\"Tm3_home_post\" postsynapticPopulation=\"Mi1_C\" synapse=\"default\">\n",
      "            <connectionWD id=\"0\" preCellId=\"../Tm3_home_post/0/CELL_Tm3_home_post_Tm3_home_post\" postCellId=\"../Mi1_C/0/CELL_Mi1_C_Mi1_C\" weight=\"0.1\" delay=\"5 ms\"/>\n",
      "        </projection>\n",
      "        <projection id=\"NetConn_NetStim_bkg_Mi1_C_10_0_exc__Mi1_C\" presynapticPopulation=\"Pop_NetStim_bkg_Mi1_C_10_0_exc\" postsynapticPopulation=\"Mi1_C\" synapse=\"exc\">\n",
      "            <connectionWD id=\"0\" preCellId=\"../Pop_NetStim_bkg_Mi1_C_10_0_exc[0]\" postCellId=\"../Mi1_C/0/CELL_Mi1_C_Mi1_C\" weight=\"0.5\" delay=\"1 ms\"/>\n",
      "        </projection>\n",
      "    </network>\n",
      "</NeuroMLDocument>\n",
      " to sample_neuroml.net.nml (<class 'str'>)\n",
      "[pyneuroml.pynml 2023-08-25 11:52:53,696] Loading NeuroML2 file: sample_neuroml.net.nml\n",
      "[pyneuroml.pynml 2023-08-25 11:52:53,707] Loading NeuroML2 file: sample_neuroml.net.nml\n",
      "[pyneuroml.pynml 2023-08-25 11:52:53,711] Loading NeuroML2 file: C:\\Users\\NJPar\\Jupyter\\BMEB 6070\\NetPyNE\\sample_neuroml.net.nml\n"
     ]
    }
   ],
   "source": [
    "networkParameters, simConfig = toNet.model_gen(client=my_client,\n",
    "                                               res=res,\n",
    "                                               filename=path+\"Import_Model\",\n",
    "                                               default_mech=default_syn,\n",
    "                                               default_cell=default_cell,\n",
    "                                               stim_sources=stim_mech,\n",
    "                                               stim_targets={'Mi1_C': {'source': 'bkg', 'weight': 0.5, 'delay': 1, 'mech': 'exc'}},\n",
    "                                               record_names=['Mi1_C', 'Mi1_L', 'Tm3_K_ant'],\n",
    "                                               maintain_morphology=False)\n",
    "\n",
    "# Export to python format\n",
    "toNet.export_model(networkParams=networkParameters,\n",
    "                   simConfig=simConfig,\n",
    "                   filename=\"sample_python\",\n",
    "                   exp_type=\"python\")\n",
    "\n",
    "# Export to neuroml format\n",
    "toNet.export_model(networkParams=networkParameters,\n",
    "                   simConfig=simConfig,\n",
    "                   filename=\"sample_neuroml\",\n",
    "                   exp_type=\"neuroml\")"
   ]
  },
  {
   "cell_type": "markdown",
   "id": "77a9b55c-6f08-496f-a956-31b6543bfcf9",
   "metadata": {},
   "source": [
    "## Brian2"
   ]
  },
  {
   "cell_type": "markdown",
   "id": "d9967c1b-564f-4745-9de8-5446c5ce154a",
   "metadata": {},
   "source": [
    "Brian2 does not support exporting models to other simulation programs."
   ]
  }
 ],
 "metadata": {
  "kernelspec": {
   "display_name": "Python 3 (ipykernel)",
   "language": "python",
   "name": "python3"
  },
  "language_info": {
   "codemirror_mode": {
    "name": "ipython",
    "version": 3
   },
   "file_extension": ".py",
   "mimetype": "text/x-python",
   "name": "python",
   "nbconvert_exporter": "python",
   "pygments_lexer": "ipython3",
   "version": "3.7.16"
  }
 },
 "nbformat": 4,
 "nbformat_minor": 5
}
